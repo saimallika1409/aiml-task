{
 "cells": [
  {
   "cell_type": "code",
   "execution_count": 2,
   "id": "51c350a1-77af-44c4-b340-1e5f4714da77",
   "metadata": {},
   "outputs": [
    {
     "name": "stdout",
     "output_type": "stream",
     "text": [
      "{'a': 1, 'b': 2, 'c': 3}\n",
      "<class 'dict'>\n"
     ]
    }
   ],
   "source": [
    "d1 = {\"a\": 1, \"b\":2, \"c\": 3}\n",
    "print(d1)\n",
    "print(type(d1))"
   ]
  },
  {
   "cell_type": "code",
   "execution_count": 3,
   "id": "4b960a3c-3f00-47d0-bc4a-7f3b7f654fce",
   "metadata": {},
   "outputs": [
    {
     "name": "stdout",
     "output_type": "stream",
     "text": [
      "{'A': 10, 'B': 20, 'C': 30}\n"
     ]
    }
   ],
   "source": [
    "d2 = dict(A=10, B=20, C=30)\n",
    "print(d2)"
   ]
  },
  {
   "cell_type": "code",
   "execution_count": 4,
   "id": "1304b80b-bd66-48a5-b36d-2f183b4bf4e9",
   "metadata": {},
   "outputs": [
    {
     "name": "stdout",
     "output_type": "stream",
     "text": [
      "{'X': 1, 'Y': 2, 'Z': 3}\n"
     ]
    }
   ],
   "source": [
    "d3 = dict([(\"X\",1),(\"Y\",2),(\"Z\",3)])\n",
    "print(d3)"
   ]
  },
  {
   "cell_type": "code",
   "execution_count": 5,
   "id": "04f7fa2c-5b28-43de-9bab-873fbfa9c67b",
   "metadata": {},
   "outputs": [
    {
     "data": {
      "text/plain": [
       "{'a': 1, 'b': 2, 'c': 3}"
      ]
     },
     "execution_count": 5,
     "metadata": {},
     "output_type": "execute_result"
    }
   ],
   "source": [
    "d1"
   ]
  },
  {
   "cell_type": "code",
   "execution_count": 6,
   "id": "5ba5ed77-7dd7-4cf0-8f0c-ec2e2d0c203d",
   "metadata": {},
   "outputs": [
    {
     "name": "stdout",
     "output_type": "stream",
     "text": [
      "dict_keys(['a', 'b', 'c'])\n",
      "dict_values([1, 2, 3])\n",
      "dict_items([('a', 1), ('b', 2), ('c', 3)])\n"
     ]
    }
   ],
   "source": [
    "print(d1.keys())\n",
    "print(d1.values())\n",
    "print(d1.items())"
   ]
  },
  {
   "cell_type": "code",
   "execution_count": 13,
   "id": "62070b37-8203-4843-a8a7-7e7f76504244",
   "metadata": {},
   "outputs": [
    {
     "data": {
      "text/plain": [
       "{'virat': 90,\n",
       " 'Rohit': 100,\n",
       " 'rahul': 70,\n",
       " 'hardik': 90,\n",
       " 'gill': 50,\n",
       " 'siraj': 70,\n",
       " 'aswin': 15}"
      ]
     },
     "execution_count": 13,
     "metadata": {},
     "output_type": "execute_result"
    }
   ],
   "source": [
    "scores = {'virat':90,'Rohit':100,'rahul':70,'hardik':90,'gill':50,'siraj':70,'aswin':15}\n",
    "scores"
   ]
  },
  {
   "cell_type": "code",
   "execution_count": 17,
   "id": "e8395c2d-3b1a-4f6a-88e3-28d57ad87a6f",
   "metadata": {},
   "outputs": [
    {
     "data": {
      "text/plain": [
       "{'virat': 90,\n",
       " 'Rohit': 100,\n",
       " 'rahul': 70,\n",
       " 'hardik': 90,\n",
       " 'gill': 50,\n",
       " 'siraj': 70,\n",
       " 'aswin': 15}"
      ]
     },
     "execution_count": 17,
     "metadata": {},
     "output_type": "execute_result"
    }
   ],
   "source": [
    "scores['aswin'] = 15\n",
    "scores"
   ]
  },
  {
   "cell_type": "code",
   "execution_count": 18,
   "id": "2283d062-66b2-4b41-931a-9fd45dbbc155",
   "metadata": {},
   "outputs": [
    {
     "data": {
      "text/plain": [
       "{'virat': 100,\n",
       " 'Rohit': 100,\n",
       " 'rahul': 70,\n",
       " 'hardik': 90,\n",
       " 'gill': 50,\n",
       " 'siraj': 70,\n",
       " 'aswin': 15}"
      ]
     },
     "execution_count": 18,
     "metadata": {},
     "output_type": "execute_result"
    }
   ],
   "source": [
    "scores.update({\"virat\":100})\n",
    "scores"
   ]
  },
  {
   "cell_type": "code",
   "execution_count": 19,
   "id": "24f2ef41-74a9-41cf-abdc-eacc9eff7fd9",
   "metadata": {},
   "outputs": [
    {
     "data": {
      "text/plain": [
       "{'virat': 100,\n",
       " 'Rohit': 100,\n",
       " 'rahul': 70,\n",
       " 'hardik': 65,\n",
       " 'gill': 50,\n",
       " 'siraj': 70,\n",
       " 'aswin': 15,\n",
       " 'rahane': 50}"
      ]
     },
     "execution_count": 19,
     "metadata": {},
     "output_type": "execute_result"
    }
   ],
   "source": [
    "scores.update({'hardik':65,'rahane':50})\n",
    "scores"
   ]
  },
  {
   "cell_type": "code",
   "execution_count": 22,
   "id": "d3796a93-21b3-4d04-859f-a5cf470df853",
   "metadata": {},
   "outputs": [
    {
     "data": {
      "text/plain": [
       "{'virat': 100,\n",
       " 'Rohit': 100,\n",
       " 'rahul': 70,\n",
       " 'hardik': 65,\n",
       " 'gill': 50,\n",
       " 'siraj': 70,\n",
       " 'aswin': 15,\n",
       " 'rahane': 50}"
      ]
     },
     "execution_count": 22,
     "metadata": {},
     "output_type": "execute_result"
    }
   ],
   "source": [
    "scores.setdefault('rahul',60)\n",
    "scores"
   ]
  },
  {
   "cell_type": "code",
   "execution_count": 23,
   "id": "d04cc5e7-84ee-4529-b50d-eaf67ac37796",
   "metadata": {},
   "outputs": [
    {
     "data": {
      "text/plain": [
       "{'virat': 100,\n",
       " 'Rohit': 100,\n",
       " 'rahul': 70,\n",
       " 'hardik': 65,\n",
       " 'gill': 50,\n",
       " 'siraj': 70,\n",
       " 'aswin': 15,\n",
       " 'rahane': 50,\n",
       " 'pujara': 50}"
      ]
     },
     "execution_count": 23,
     "metadata": {},
     "output_type": "execute_result"
    }
   ],
   "source": [
    "scores.setdefault('pujara',50)\n",
    "scores"
   ]
  },
  {
   "cell_type": "code",
   "execution_count": 24,
   "id": "007c06c8-b837-45e8-923d-d8b6b72e3a31",
   "metadata": {},
   "outputs": [
    {
     "data": {
      "text/plain": [
       "{'virat': 100,\n",
       " 'Rohit': 100,\n",
       " 'rahul': 70,\n",
       " 'hardik': 65,\n",
       " 'gill': 50,\n",
       " 'siraj': 70,\n",
       " 'aswin': 15,\n",
       " 'rahane': 50}"
      ]
     },
     "execution_count": 24,
     "metadata": {},
     "output_type": "execute_result"
    }
   ],
   "source": [
    "scores.popitem()\n",
    "scores"
   ]
  },
  {
   "cell_type": "code",
   "execution_count": 25,
   "id": "8a7a2c72-84a4-410e-8745-bce74f73124c",
   "metadata": {},
   "outputs": [
    {
     "data": {
      "text/plain": [
       "{'virat': 100,\n",
       " 'Rohit': 100,\n",
       " 'rahul': 70,\n",
       " 'hardik': 65,\n",
       " 'siraj': 70,\n",
       " 'aswin': 15,\n",
       " 'rahane': 50}"
      ]
     },
     "execution_count": 25,
     "metadata": {},
     "output_type": "execute_result"
    }
   ],
   "source": [
    "scores.pop(\"gill\")\n",
    "scores"
   ]
  },
  {
   "cell_type": "code",
   "execution_count": 30,
   "id": "c0ca2f0a-babd-4452-b887-d932a402c49c",
   "metadata": {},
   "outputs": [
    {
     "data": {
      "text/plain": [
       "70"
      ]
     },
     "execution_count": 30,
     "metadata": {},
     "output_type": "execute_result"
    }
   ],
   "source": [
    "scores.get(\"siraj\")"
   ]
  },
  {
   "cell_type": "code",
   "execution_count": 32,
   "id": "07f554a7-dfa9-4717-bc63-c55d6f05cf8b",
   "metadata": {},
   "outputs": [
    {
     "data": {
      "text/plain": [
       "{'A': 20, 'B': 20, 'C': 20, 'D': 20}"
      ]
     },
     "execution_count": 32,
     "metadata": {},
     "output_type": "execute_result"
    }
   ],
   "source": [
    "list1 = [\"A\",\"B\",\"C\",\"D\"]\n",
    "my_dict = dict.fromkeys(list1,20)\n",
    "my_dict\n"
   ]
  },
  {
   "cell_type": "code",
   "execution_count": 33,
   "id": "a7eac075-47a5-4815-99ef-89b66520b6c4",
   "metadata": {},
   "outputs": [
    {
     "data": {
      "text/plain": [
       "{'A': 10, 'B': 20, 'C': 20, 'D': 20}"
      ]
     },
     "execution_count": 33,
     "metadata": {},
     "output_type": "execute_result"
    }
   ],
   "source": [
    "my_dict.update({\"A\":10,\"B\":20})\n",
    "my_dict"
   ]
  },
  {
   "cell_type": "code",
   "execution_count": null,
   "id": "aee8cc9a-d7f4-475e-a6b9-878882f4d7bd",
   "metadata": {},
   "outputs": [],
   "source": []
  }
 ],
 "metadata": {
  "kernelspec": {
   "display_name": "Python 3 (ipykernel)",
   "language": "python",
   "name": "python3"
  },
  "language_info": {
   "codemirror_mode": {
    "name": "ipython",
    "version": 3
   },
   "file_extension": ".py",
   "mimetype": "text/x-python",
   "name": "python",
   "nbconvert_exporter": "python",
   "pygments_lexer": "ipython3",
   "version": "3.12.7"
  }
 },
 "nbformat": 4,
 "nbformat_minor": 5
}
