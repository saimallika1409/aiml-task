{
 "cells": [
  {
   "cell_type": "code",
   "execution_count": 1,
   "id": "fca8df0a-9a1e-4eba-a39c-ef8d6194cbcd",
   "metadata": {},
   "outputs": [],
   "source": [
    "# import numpy library\n",
    "import numpy as np\n"
   ]
  },
  {
   "cell_type": "code",
   "execution_count": 2,
   "id": "d0c3568b-6686-408e-9813-01936d0f4660",
   "metadata": {},
   "outputs": [],
   "source": [
    "#dir(np)"
   ]
  },
  {
   "cell_type": "code",
   "execution_count": 3,
   "id": "a26888d9-435e-40e4-ab42-7bb23a7076dc",
   "metadata": {},
   "outputs": [
    {
     "name": "stdout",
     "output_type": "stream",
     "text": [
      "[45 67 57 60]\n",
      "<class 'numpy.ndarray'>\n",
      "int32\n"
     ]
    }
   ],
   "source": [
    "#create 1D numpy array\n",
    "x = np.array([45,67,57,60])\n",
    "print(x)\n",
    "print(type(x))\n",
    "print(x.dtype)"
   ]
  },
  {
   "cell_type": "code",
   "execution_count": 4,
   "id": "1ed0fcef-a71c-4972-b777-60cdde3db758",
   "metadata": {},
   "outputs": [
    {
     "name": "stdout",
     "output_type": "stream",
     "text": [
      "[45.  67.  57.   9.8]\n",
      "<class 'numpy.ndarray'>\n",
      "float64\n"
     ]
    }
   ],
   "source": [
    "#verify the data type in array\n",
    "x = np.array([45,67,57,9.8])\n",
    "print(x)\n",
    "print(type(x))\n",
    "print(x.dtype)"
   ]
  },
  {
   "cell_type": "code",
   "execution_count": 6,
   "id": "2640faac-0f15-4113-b75a-38be44137769",
   "metadata": {},
   "outputs": [
    {
     "name": "stdout",
     "output_type": "stream",
     "text": [
      "['A' '67' '57' '9.8']\n",
      "<class 'numpy.ndarray'>\n",
      "<U32\n"
     ]
    }
   ],
   "source": [
    "#verify the data type\n",
    "x = np.array([\"A\",67,57,9.8])\n",
    "print(x)\n",
    "print(type(x))\n",
    "print(x.dtype)"
   ]
  },
  {
   "cell_type": "code",
   "execution_count": 7,
   "id": "d0c73038-5613-4d48-8c67-a4dc7ddfcdb4",
   "metadata": {},
   "outputs": [
    {
     "name": "stdout",
     "output_type": "stream",
     "text": [
      "[[20 40]\n",
      " [30 60]]\n",
      "<class 'numpy.ndarray'>\n",
      "(2, 2)\n"
     ]
    }
   ],
   "source": [
    "#xreate a 2D array\n",
    "a2 = np.array([[20,40],[30,60]])\n",
    "print(a2)\n",
    "print(type(a2))\n",
    "print(a2.shape)"
   ]
  },
  {
   "cell_type": "code",
   "execution_count": 8,
   "id": "6226696e-f659-44ae-a89f-5d5c47f08b97",
   "metadata": {},
   "outputs": [
    {
     "name": "stdout",
     "output_type": "stream",
     "text": [
      "[[10 20]\n",
      " [30 40]]\n",
      "(2, 2)\n"
     ]
    }
   ],
   "source": [
    "#reshaping an array\n",
    "a = np.array([10,20,30,40])\n",
    "b = a.reshape(2,2)\n",
    "print(b)\n",
    "print(b.shape)"
   ]
  },
  {
   "cell_type": "code",
   "execution_count": 9,
   "id": "edb3f015-be84-4e2d-be03-6305d614d383",
   "metadata": {},
   "outputs": [
    {
     "name": "stdout",
     "output_type": "stream",
     "text": [
      "[3 4 5 6 7 8 9]\n"
     ]
    },
    {
     "data": {
      "text/plain": [
       "numpy.ndarray"
      ]
     },
     "execution_count": 9,
     "metadata": {},
     "output_type": "execute_result"
    }
   ],
   "source": [
    "#create an array with arange()\n",
    "c = np.arange(3,10)\n",
    "print(c)\n",
    "type(c)"
   ]
  },
  {
   "cell_type": "code",
   "execution_count": 12,
   "id": "2401ae13-9637-47cc-ab7b-50c11ea7d918",
   "metadata": {},
   "outputs": [
    {
     "name": "stdout",
     "output_type": "stream",
     "text": [
      "[1.3467  3.10987 4.91236]\n"
     ]
    },
    {
     "data": {
      "text/plain": [
       "array([1.347, 3.11 , 4.912])"
      ]
     },
     "execution_count": 12,
     "metadata": {},
     "output_type": "execute_result"
    }
   ],
   "source": [
    "#use of around()\n",
    "d = np.array([1.3467,3.10987,4.91236])\n",
    "print(d)\n",
    "np.around(d,3)"
   ]
  },
  {
   "cell_type": "code",
   "execution_count": 14,
   "id": "573cedc4-764b-4fd3-9173-8240bf7d2c36",
   "metadata": {},
   "outputs": [
    {
     "name": "stdout",
     "output_type": "stream",
     "text": [
      "[1.2345  3.13789 4.678  ]\n",
      "[1.11 1.77 2.16]\n"
     ]
    }
   ],
   "source": [
    "#use of np.sqrt()\n",
    "d = np.array([1.2345,3.13789,4.678])\n",
    "print(d)\n",
    "print(np.around(np.sqrt(d),2))"
   ]
  },
  {
   "cell_type": "code",
   "execution_count": 16,
   "id": "8b4785eb-75b8-4c0b-a6d6-e4106e431f8a",
   "metadata": {},
   "outputs": [
    {
     "name": "stdout",
     "output_type": "stream",
     "text": [
      "[[ 3.  4.  5.  6.]\n",
      " [ 7.  8.  2. nan]]\n"
     ]
    },
    {
     "data": {
      "text/plain": [
       "dtype('float64')"
      ]
     },
     "execution_count": 16,
     "metadata": {},
     "output_type": "execute_result"
    }
   ],
   "source": [
    "#create a 2d array\n",
    "a1 = np.array([[3,4,5,6],[7,8,2,np.NaN]])\n",
    "print(a1)\n",
    "a1.dtype"
   ]
  },
  {
   "cell_type": "code",
   "execution_count": 17,
   "id": "03a8ffd8-67e2-446e-aa62-17022a0f2a0e",
   "metadata": {},
   "outputs": [
    {
     "name": "stdout",
     "output_type": "stream",
     "text": [
      "[['3.0' '4.0' '5.0' '6.0']\n",
      " ['7.0' '8.0' '2.0' 'nan']]\n"
     ]
    },
    {
     "data": {
      "text/plain": [
       "dtype('<U32')"
      ]
     },
     "execution_count": 17,
     "metadata": {},
     "output_type": "execute_result"
    }
   ],
   "source": [
    "#use of astype() to convert the data type\n",
    "a1 = np.array([[3,4,5,6],[7,8,2,np.NaN]])\n",
    "a1_copy1 = a1.astype(str)\n",
    "print(a1_copy1)\n",
    "a1_copy1.dtype"
   ]
  },
  {
   "cell_type": "code",
   "execution_count": 21,
   "id": "41045b44-47ba-49ff-8227-0ef08d80b203",
   "metadata": {},
   "outputs": [
    {
     "data": {
      "text/plain": [
       "array([13, 19, 24])"
      ]
     },
     "execution_count": 21,
     "metadata": {},
     "output_type": "execute_result"
    }
   ],
   "source": [
    "#mathematical operations on rows and cols\n",
    "a2 = np.array([[3,4,5],[6,9,8],[4,6,11]])\n",
    "a2.sum(axis=1)\n",
    "a2.sum(axis=0)"
   ]
  },
  {
   "cell_type": "code",
   "execution_count": 22,
   "id": "69ee3553-0f31-45ad-8d68-0ad298a3f40b",
   "metadata": {},
   "outputs": [
    {
     "data": {
      "text/plain": [
       "array([[3, 4, 5],\n",
       "       [7, 8, 9],\n",
       "       [9, 1, 6]])"
      ]
     },
     "execution_count": 22,
     "metadata": {},
     "output_type": "execute_result"
    }
   ],
   "source": [
    "#matrix operations\n",
    "a3 = np.array([[3,4,5],[7,8,9],[9,1,6]])\n",
    "a3"
   ]
  },
  {
   "cell_type": "code",
   "execution_count": 23,
   "id": "a238595e-a048-4dd3-8a4a-7452f50a1a56",
   "metadata": {},
   "outputs": [
    {
     "name": "stdout",
     "output_type": "stream",
     "text": [
      "[[3 4 5]\n",
      " [7 8 9]\n",
      " [9 1 6]]\n",
      "[[0 4 5]\n",
      " [7 0 9]\n",
      " [9 1 0]]\n"
     ]
    }
   ],
   "source": [
    "a3 = np.array([[3,4,5],[7,8,9],[9,1,6]])\n",
    "print(a3)\n",
    "np.fill_diagonal(a3,0)\n",
    "print(a3)"
   ]
  },
  {
   "cell_type": "code",
   "execution_count": 24,
   "id": "2fc72b37-e64c-4b55-bda4-2a0b779c3a84",
   "metadata": {},
   "outputs": [],
   "source": [
    "#define two matrices and multipy them\n",
    "A = np.array([[1,2],[3,4]])\n",
    "B = np.array([[5,6],[8,9]])\n",
    "\n",
    "#perform matrix multiplication\n",
    "C = np.matmul(A,B)"
   ]
  },
  {
   "cell_type": "code",
   "execution_count": 25,
   "id": "09b4fa09-7342-4213-a28a-a6b1d8d3fb34",
   "metadata": {},
   "outputs": [
    {
     "name": "stdout",
     "output_type": "stream",
     "text": [
      "[[1 3]\n",
      " [2 4]]\n",
      "[[5 8]\n",
      " [6 9]]\n"
     ]
    }
   ],
   "source": [
    "print(A.T)\n",
    "print(B.T)"
   ]
  },
  {
   "cell_type": "code",
   "execution_count": 26,
   "id": "b85c6ef6-3ad5-4776-ad8d-c37a87846ae4",
   "metadata": {},
   "outputs": [
    {
     "data": {
      "text/plain": [
       "array([[3, 4, 5],\n",
       "       [7, 8, 9],\n",
       "       [9, 8, 5],\n",
       "       [3, 4, 5]])"
      ]
     },
     "execution_count": 26,
     "metadata": {},
     "output_type": "execute_result"
    }
   ],
   "source": [
    "# accessing the array elements\n",
    "a4 = np.array([[3,4,5],[7,8,9],[9,8,5],[3,4,5]])\n",
    "a4"
   ]
  },
  {
   "cell_type": "code",
   "execution_count": 27,
   "id": "9284b843-d1fe-418e-a040-4fa5c8c13178",
   "metadata": {},
   "outputs": [
    {
     "data": {
      "text/plain": [
       "9"
      ]
     },
     "execution_count": 27,
     "metadata": {},
     "output_type": "execute_result"
    }
   ],
   "source": [
    "a4[2][0]"
   ]
  },
  {
   "cell_type": "code",
   "execution_count": 28,
   "id": "98bd52b2-6eb5-449a-8985-57fcaaae39fe",
   "metadata": {},
   "outputs": [
    {
     "data": {
      "text/plain": [
       "array([[7, 8],\n",
       "       [9, 8]])"
      ]
     },
     "execution_count": 28,
     "metadata": {},
     "output_type": "execute_result"
    }
   ],
   "source": [
    "a4[1:3,0:2]"
   ]
  },
  {
   "cell_type": "code",
   "execution_count": 29,
   "id": "b5c4a8f2-eddc-44de-aa45-ea86e5ad2309",
   "metadata": {},
   "outputs": [
    {
     "data": {
      "text/plain": [
       "array([[3, 4, 5],\n",
       "       [8, 9, 5],\n",
       "       [2, 1, 7]])"
      ]
     },
     "execution_count": 29,
     "metadata": {},
     "output_type": "execute_result"
    }
   ],
   "source": [
    "# accessing max value and its index\n",
    "a3 = np.array([[3,4,5],[8,9,5],[2,1,7]])\n",
    "a3"
   ]
  },
  {
   "cell_type": "code",
   "execution_count": 31,
   "id": "cc80b9a4-50ee-490e-aae7-390fd5c796f4",
   "metadata": {},
   "outputs": [
    {
     "name": "stdout",
     "output_type": "stream",
     "text": [
      "[2 1 2]\n",
      "[1 1 2]\n"
     ]
    }
   ],
   "source": [
    "#print the index position of max element\n",
    "print(np.argmax(a3,axis=1))\n",
    "print(np.argmax(a3,axis=0))"
   ]
  },
  {
   "cell_type": "code",
   "execution_count": 34,
   "id": "5f9a34ba-9f90-42ba-81b1-3ddd4ce3d318",
   "metadata": {},
   "outputs": [
    {
     "name": "stdout",
     "output_type": "stream",
     "text": [
      "[5 9 7]\n",
      "[8 9 7]\n"
     ]
    }
   ],
   "source": [
    "#print the max value element\n",
    "print(np.amax(a3,axis=1))\n",
    "print(np.amax(a3,axis=0))"
   ]
  },
  {
   "cell_type": "code",
   "execution_count": null,
   "id": "fc5d2326-e214-4b8c-8c71-dc220178f15e",
   "metadata": {},
   "outputs": [],
   "source": []
  }
 ],
 "metadata": {
  "kernelspec": {
   "display_name": "Python 3 (ipykernel)",
   "language": "python",
   "name": "python3"
  },
  "language_info": {
   "codemirror_mode": {
    "name": "ipython",
    "version": 3
   },
   "file_extension": ".py",
   "mimetype": "text/x-python",
   "name": "python",
   "nbconvert_exporter": "python",
   "pygments_lexer": "ipython3",
   "version": "3.12.7"
  }
 },
 "nbformat": 4,
 "nbformat_minor": 5
}
