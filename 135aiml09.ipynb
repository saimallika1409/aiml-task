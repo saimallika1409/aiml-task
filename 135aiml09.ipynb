{
 "cells": [
  {
   "cell_type": "code",
   "execution_count": null,
   "id": "80bf4dea-7037-4415-93a2-7c3b4673c7a1",
   "metadata": {},
   "outputs": [],
   "source": [
    "def mean_value(*n):\n",
    "    sum = 0\n",
    "    counter = 0\n",
    "    for "
   ]
  },
  {
   "cell_type": "code",
   "execution_count": 7,
   "id": "27e593c9-1e16-4bea-b45f-d2c50ce7dcd8",
   "metadata": {},
   "outputs": [],
   "source": [
    "def median_value(*n):\n",
    "    num_list = list(n)\n",
    "    num_list.sort()\n",
    "    l = len(num_list)\n",
    "    if l%2 == 0:\n",
    "        median = (num_list[int(l/2)] + num_list[int((l/2))-1])/2\n",
    "    else:\n",
    "        median = num_list[int(l/2)]\n",
    "    return median\n",
    "                  "
   ]
  },
  {
   "cell_type": "code",
   "execution_count": 9,
   "id": "733f387c-99dd-41e9-86d3-e4a4ba640f98",
   "metadata": {},
   "outputs": [
    {
     "data": {
      "text/plain": [
       "5.5"
      ]
     },
     "execution_count": 9,
     "metadata": {},
     "output_type": "execute_result"
    }
   ],
   "source": [
    "median_value(1,2,3,4,5,6,7,8,9,10)"
   ]
  },
  {
   "cell_type": "code",
   "execution_count": null,
   "id": "c8eb38ce-f63c-457b-8850-464b016317f7",
   "metadata": {},
   "outputs": [],
   "source": []
  }
 ],
 "metadata": {
  "kernelspec": {
   "display_name": "Python [conda env:base] *",
   "language": "python",
   "name": "conda-base-py"
  },
  "language_info": {
   "codemirror_mode": {
    "name": "ipython",
    "version": 3
   },
   "file_extension": ".py",
   "mimetype": "text/x-python",
   "name": "python",
   "nbconvert_exporter": "python",
   "pygments_lexer": "ipython3",
   "version": "3.12.7"
  }
 },
 "nbformat": 4,
 "nbformat_minor": 5
}
